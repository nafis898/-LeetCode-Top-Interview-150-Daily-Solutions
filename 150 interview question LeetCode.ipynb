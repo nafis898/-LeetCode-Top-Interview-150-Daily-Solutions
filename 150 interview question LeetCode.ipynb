{
 "cells": [
  {
   "cell_type": "markdown",
   "id": "297b4605",
   "metadata": {},
   "source": [
    "Matrix"
   ]
  },
  {
   "cell_type": "code",
   "execution_count": 6,
   "id": "5efac079",
   "metadata": {},
   "outputs": [],
   "source": [
    "#36 Valid Sudoko\n",
    "\n",
    "board = [[\"5\",\"3\",\".\",\".\",\"7\",\".\",\".\",\".\",\".\"]\n",
    ",[\"6\",\".\",\".\",\"1\",\"9\",\"5\",\".\",\".\",\".\"]\n",
    ",[\".\",\"9\",\"8\",\".\",\".\",\".\",\".\",\"6\",\".\"]\n",
    ",[\"8\",\".\",\".\",\".\",\"6\",\".\",\".\",\".\",\"3\"]\n",
    ",[\"4\",\".\",\".\",\"8\",\".\",\"3\",\".\",\".\",\"1\"]\n",
    ",[\"7\",\".\",\".\",\".\",\"2\",\".\",\".\",\".\",\"6\"]\n",
    ",[\".\",\"6\",\".\",\".\",\".\",\".\",\"2\",\"8\",\".\"]\n",
    ",[\".\",\".\",\".\",\"4\",\"1\",\"9\",\".\",\".\",\"5\"]\n",
    ",[\".\",\".\",\".\",\".\",\"8\",\".\",\".\",\"7\",\"9\"]]\n",
    "\n",
    "class Solution(object):\n",
    "    def isValidSudoku(self, board):\n",
    "        \"\"\"\n",
    "        :type board: List[List[str]]\n",
    "        :rtype: bool\n",
    "        \"\"\"\n",
    "        rows = [set() for _ in range(9)]\n",
    "        cols = [set() for _ in range(9)]\n",
    "        boxes = [set() for _ in range(9)]\n",
    "        for i in range(9):\n",
    "            for j in range(9):\n",
    "                c = board[i][j]\n",
    "                if c == \".\":\n",
    "                    continue\n",
    "                boxIndex = (i // 3) * 3 + j // 3\n",
    "                if c in rows[i] or c in cols[j] or c in boxes[boxIndex]:\n",
    "                    return False\n",
    "                rows[i].add(c)\n",
    "                cols[j].add(c)\n",
    "                boxes[boxIndex].add(c)\n",
    "        return True\n",
    "        print(Solution().isValidSudoku(board))"
   ]
  },
  {
   "cell_type": "code",
   "execution_count": null,
   "id": "0a5379b1",
   "metadata": {},
   "outputs": [],
   "source": []
  }
 ],
 "metadata": {
  "kernelspec": {
   "display_name": "Python 3",
   "language": "python",
   "name": "python3"
  },
  "language_info": {
   "codemirror_mode": {
    "name": "ipython",
    "version": 3
   },
   "file_extension": ".py",
   "mimetype": "text/x-python",
   "name": "python",
   "nbconvert_exporter": "python",
   "pygments_lexer": "ipython3",
   "version": "3.13.0"
  }
 },
 "nbformat": 4,
 "nbformat_minor": 5
}
